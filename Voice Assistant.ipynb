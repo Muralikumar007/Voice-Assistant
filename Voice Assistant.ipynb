{
 "cells": [
  {
   "cell_type": "markdown",
   "id": "bb461d61",
   "metadata": {},
   "source": [
    "# Voice Assistant"
   ]
  },
  {
   "cell_type": "markdown",
   "id": "7ee63980",
   "metadata": {},
   "source": [
    "### Import Libraries:"
   ]
  },
  {
   "cell_type": "code",
   "execution_count": 1,
   "id": "91ada3be",
   "metadata": {
    "scrolled": false
   },
   "outputs": [],
   "source": [
    "import speech_recognition as sr #convert speech to text\n",
    "import datetime #for fetching date and time\n",
    "import playsound # to play saved mp3 file \n",
    "from gtts import gTTS # google text to speech\n",
    "import json\n",
    "import time\n",
    "import noisereduce as nr\n",
    "import cv2\n",
    "import pyaudio\n",
    "import numpy as np\n",
    "import os # to save/open files "
   ]
  },
  {
   "cell_type": "markdown",
   "id": "7e269fe4",
   "metadata": {},
   "source": [
    "### Respond Your Voice:"
   ]
  },
  {
   "cell_type": "code",
   "execution_count": 2,
   "id": "0a079fe3",
   "metadata": {},
   "outputs": [],
   "source": [
    "def talk():\n",
    "    aud=sr.Recognizer()\n",
    "    with sr.Microphone() as source:\n",
    "        respond(\"speak now\")\n",
    "        audio=aud.listen(source)\n",
    "        data=\"\"\n",
    "        try:\n",
    "            data=aud.recognize_google(audio)\n",
    "            print(\"Your question is, \" + data)\n",
    "            \n",
    "        except sr.UnknownValueError:\n",
    "            respond(\"Sorry, I didn't catch that. Could you please repeat?\")\n",
    "            \n",
    "        except sr.RequestError:\n",
    "            respond(\"Sorry, my speech service is not available at the moment.\")\n",
    "            \n",
    "    return data"
   ]
  },
  {
   "cell_type": "code",
   "execution_count": 3,
   "id": "6c95fde0",
   "metadata": {},
   "outputs": [],
   "source": [
    "def respond(output):\n",
    "    num=0\n",
    "    print(output)\n",
    "    num += 1\n",
    "    response=gTTS(text=output, lang='en')\n",
    "    file = str(num)+\".mp3\"\n",
    "    response.save(file)\n",
    "    playsound.playsound(file, True)\n",
    "    os.remove(file)"
   ]
  },
  {
   "cell_type": "markdown",
   "id": "3791ac9d",
   "metadata": {},
   "source": [
    "### Wake Word:"
   ]
  },
  {
   "cell_type": "code",
   "execution_count": 4,
   "id": "7bcbc687",
   "metadata": {},
   "outputs": [],
   "source": [
    "def wakeWord(text):\n",
    "    WAKE_WORDS = ['cm'] \n",
    "    text = text.lower() \n",
    "    \n",
    "    for phrase in WAKE_WORDS:\n",
    "        if phrase in text:\n",
    "            return True\n",
    "        \n",
    "    return False"
   ]
  },
  {
   "cell_type": "markdown",
   "id": "91e6f835",
   "metadata": {},
   "source": [
    "### Remove Background Noise:"
   ]
  },
  {
   "cell_type": "code",
   "execution_count": 5,
   "id": "eda74b2b",
   "metadata": {},
   "outputs": [],
   "source": [
    "def remove_background_noise(duration=5):\n",
    "\n",
    "    chunk = 1024\n",
    "    format = pyaudio.paInt16\n",
    "    channels = 1\n",
    "    sample_rate = 16000\n",
    "\n",
    "    p = pyaudio.PyAudio()\n",
    "    stream = p.open(format=format,\n",
    "                    channels=channels,\n",
    "                    rate=sample_rate,\n",
    "                    input=True,\n",
    "                    frames_per_buffer=chunk)\n",
    "\n",
    "    frames = []\n",
    "    for i in range(int(sample_rate / chunk * duration)):\n",
    "        data = stream.read(chunk)\n",
    "        frames.append(data)\n",
    "\n",
    "    audio_array = np.frombuffer(b''.join(frames), dtype=np.int16)\n",
    "\n",
    "    reduced_noise = nr.reduce_noise(y=audio_array, sr=sample_rate)\n",
    "\n",
    "    stream.stop_stream()\n",
    "    stream.close()\n",
    "    p.terminate()\n",
    "\n",
    "    return reduced_noise"
   ]
  },
  {
   "cell_type": "markdown",
   "id": "6bb8cad2",
   "metadata": {},
   "source": [
    "### Face Detection:"
   ]
  },
  {
   "cell_type": "code",
   "execution_count": 6,
   "id": "f7c1da78",
   "metadata": {},
   "outputs": [],
   "source": [
    "face_cascade = cv2.CascadeClassifier(cv2.data.haarcascades + 'haarcascade_frontalface_default.xml')"
   ]
  },
  {
   "cell_type": "code",
   "execution_count": 7,
   "id": "b049c546",
   "metadata": {},
   "outputs": [],
   "source": [
    "def detect_faces():\n",
    "\n",
    "    video_capture = cv2.VideoCapture(0)\n",
    "\n",
    "    while True:\n",
    "    \n",
    "        ret, frame = video_capture.read()\n",
    "\n",
    "        gray = cv2.cvtColor(frame, cv2.COLOR_BGR2GRAY)\n",
    "\n",
    "        faces = face_cascade.detectMultiScale(gray, scaleFactor=1.1, minNeighbors=5, minSize=(30, 30))\n",
    "\n",
    "        if len(faces) > 0:\n",
    "            respond(\"Face Detected\")\n",
    "            wishme()\n",
    "            break\n",
    "            \n",
    "        if len(faces) == 0 :\n",
    "            respond(\"Face Not Detected\")\n",
    "            respond(\"Please come infront of me and say a wakeword\")\n",
    "            video_capture.release()\n",
    "            cv2.destroyAllWindows()\n",
    "            return\n",
    "        \n",
    "        for (x, y, w, h) in faces:\n",
    "            \n",
    "            if w > 100 and h > 100:  \n",
    "                cv2.rectangle(frame, (x, y), (x + w, y + h), (0, 255, 0), 2)\n",
    "            elif w > 50 and h > 50: \n",
    "                cv2.rectangle(frame, (x, y), (x + w, y + h), (0, 0, 255), 2)\n",
    "            else:\n",
    "                cv2.rectangle(frame, (x, y), (x + w, y + h), (255, 0, 0), 2)\n",
    "\n",
    "\n",
    "        cv2.imshow('Face Detection', frame)\n",
    "        \n",
    "        if cv2.waitKey(3000) != -1:\n",
    "            break\n",
    "\n",
    "    video_capture.release()\n",
    "    \n",
    "    cv2.destroyAllWindows()"
   ]
  },
  {
   "cell_type": "markdown",
   "id": "49c80bb8",
   "metadata": {},
   "source": [
    "### Welcome Speech :"
   ]
  },
  {
   "cell_type": "code",
   "execution_count": 8,
   "id": "25bb27f1",
   "metadata": {},
   "outputs": [],
   "source": [
    "def wishme():\n",
    "    \n",
    "    hour = datetime.datetime.now().hour\n",
    "    if hour >= 4 and hour < 12:\n",
    "        respond(\"Good Morning\")\n",
    "    elif hour >= 12 and hour < 16:\n",
    "        respond(\"Good Afternoon\")\n",
    "    elif hour >= 16 and hour < 24:\n",
    "        respond(\"Good Evening\")\n",
    "    else:\n",
    "        respond(\"Good Night, See You Tommorrow\")\n",
    "        \n",
    "    respond(\"Welcome to svm jewellery shop\")\n",
    "    \n",
    "    respond(\"Hello, I am your svm Jewellery Shop Voice Assistant, How can I help you?\")"
   ]
  },
  {
   "cell_type": "markdown",
   "id": "2a8a59d9",
   "metadata": {},
   "source": [
    "### Get Date and Time:"
   ]
  },
  {
   "cell_type": "code",
   "execution_count": 9,
   "id": "039dafae",
   "metadata": {},
   "outputs": [],
   "source": [
    "def get_date():\n",
    "    now = datetime.datetime.now()\n",
    "    date = now.strftime(\"%A, %B %d, %Y\")\n",
    "    respond(\"Today's Date is \" + date)"
   ]
  },
  {
   "cell_type": "code",
   "execution_count": 10,
   "id": "af1b2e6b",
   "metadata": {},
   "outputs": [],
   "source": [
    "def get_time():\n",
    "    now = datetime.datetime.now()\n",
    "    time = now.strftime(\"%I:%M %p\")\n",
    "    respond(\"The Current Time is \" + time)"
   ]
  },
  {
   "cell_type": "markdown",
   "id": "8bb06920",
   "metadata": {},
   "source": [
    "### Import Data from JSON File:"
   ]
  },
  {
   "cell_type": "code",
   "execution_count": 11,
   "id": "2b069e39",
   "metadata": {},
   "outputs": [],
   "source": [
    "jewellery_data = {\n",
    "    \n",
    "    \"collections\": {\n",
    "        \n",
    "        \"gold\":  { \n",
    "            \n",
    "            \"gold rate\" : [\n",
    "                    {\"gold_per_gram\" : \"4800 rupees + GST(Applicable)\", \"gold_eight_gram\" : \"45000 rupees + GST(Applicable)\"}\n",
    "            ],\n",
    "            \n",
    "            \"items\": [\n",
    "                {\"name\": \"necklace\"},\n",
    "                {\"name\": \"bracelet\"},\n",
    "                {\"name\": \"ring\"}\n",
    "            ],\n",
    "            \n",
    "            \"offers\": [\"10% offer on all items\"\n",
    "            ]\n",
    "        },\n",
    "        \n",
    "        \"silver\": {\n",
    "            \n",
    "            \"silver rate\" : [\n",
    "                    {\"silver_per_gram\" : \"77 rupees + GST(Applicable)\", \"silver_eight_gram\" : \"675 rupees + GST(Applicable)\"}\n",
    "                 ],\n",
    "            \n",
    "            \"items\": [\n",
    "                {\"name\": \"earrings\"},\n",
    "                {\"name\": \"pendant\"},\n",
    "                {\"name\": \"bangle\"}\n",
    "            ],\n",
    "            \n",
    "            \"offers\": [\"15% offer on all items\"\n",
    "            ]\n",
    "        },\n",
    "        \n",
    "        \"diamond\": {\n",
    "            \n",
    "            \"diamond rate\" : [\n",
    "                    {\"diamond_per_carat\" : \"6500 rupees + GST(Applicable)\", \"diamond_per_gram\" : \"300000 rupees + GST(Applicable)\"}\n",
    "                 ],\n",
    "            \n",
    "            \"items\": [\n",
    "                {\"name\": \"earrings\"},\n",
    "                {\"name\": \"ring\"},\n",
    "                {\"name\": \"pendant\"}\n",
    "            ],\n",
    "            \n",
    "            \"offers\": [\"5% offer on all items\"\n",
    "            ]\n",
    "        },\n",
    "        \n",
    "        \"platinum\" : {\n",
    "            \n",
    "            \"platinum rate\" : [\n",
    "                    {\"platinum_per_gram\" : \"2454 rupees + GST(Applicable)\", \"platinum_eight_gram\" : \"23465 rupees + GST(Applicable)\"}\n",
    "                 ],\n",
    "            \n",
    "            \"items\": [\n",
    "                {\"name\": \"chain\"},\n",
    "                {\"name\": \"bracelet\"},\n",
    "                {\"name\": \"ring\"}\n",
    "            ],\n",
    "            \n",
    "            \"offers\" : [\"No offers available for this collection\"],\n",
    "        }       \n",
    "    }\n",
    "}"
   ]
  },
  {
   "cell_type": "markdown",
   "id": "73523195",
   "metadata": {},
   "source": [
    "### Read JSON File :"
   ]
  },
  {
   "cell_type": "code",
   "execution_count": 12,
   "id": "39014cbc",
   "metadata": {},
   "outputs": [],
   "source": [
    "file_path = \"jewellery_data.json\"\n",
    "\n",
    "with open(file_path, \"w\") as file:\n",
    "    json.dump(jewellery_data, file, indent=4)"
   ]
  },
  {
   "cell_type": "code",
   "execution_count": 13,
   "id": "ec2ce315",
   "metadata": {},
   "outputs": [],
   "source": [
    "def load_jewellery_data():\n",
    "    with open(\"jewellery_data.json\") as file:\n",
    "        jewellery_data = json.load(file)\n",
    "    return jewellery_data\n",
    "\n",
    "jewellery_data = load_jewellery_data()"
   ]
  },
  {
   "cell_type": "markdown",
   "id": "5d681763",
   "metadata": {},
   "source": [
    "### Show all Collection:"
   ]
  },
  {
   "cell_type": "code",
   "execution_count": 14,
   "id": "27149465",
   "metadata": {},
   "outputs": [],
   "source": [
    "def find_collection():\n",
    "    collections = jewellery_data[\"collections\"]\n",
    "    respond(\"We have the following collections:\")\n",
    "    for collection in collections:\n",
    "        \n",
    "        respond(collection)"
   ]
  },
  {
   "cell_type": "markdown",
   "id": "37d77de0",
   "metadata": {},
   "source": [
    "### Show Collection Price:"
   ]
  },
  {
   "cell_type": "code",
   "execution_count": 15,
   "id": "51f41478",
   "metadata": {},
   "outputs": [],
   "source": [
    "def gold_rate():\n",
    "    collection = \"gold\"\n",
    "    if collection in jewellery_data[\"collections\"]:\n",
    "        collection_data = jewellery_data[\"collections\"][collection]\n",
    "        if \"gold rate\" in collection_data:\n",
    "            rate = collection_data[\"gold rate\"]\n",
    "            respond(f\"The {collection} collection has the following rate:\")\n",
    "            for item in collection_data[\"gold rate\"]:\n",
    "                respond(f\" one gram rate is {item['gold_per_gram']} :  eight gram rate is {item['gold_eight_gram']}\")"
   ]
  },
  {
   "cell_type": "code",
   "execution_count": 16,
   "id": "796a23d6",
   "metadata": {},
   "outputs": [],
   "source": [
    "def silver_rate():\n",
    "    collection = \"silver\"\n",
    "    if collection in jewellery_data[\"collections\"]:\n",
    "        collection_data = jewellery_data[\"collections\"][collection]\n",
    "        if \"silver rate\" in collection_data:\n",
    "            rate = collection_data[\"silver rate\"]\n",
    "            respond(f\"The {collection} collection has the following rate:\")\n",
    "            for item in collection_data[\"silver rate\"]:\n",
    "                respond(f\" one gram rate is {item['silver_per_gram']} :  eight gram rate is  {item['silver_eight_gram']}\")"
   ]
  },
  {
   "cell_type": "code",
   "execution_count": 17,
   "id": "1ed980ee",
   "metadata": {},
   "outputs": [],
   "source": [
    "def diamond_rate():\n",
    "    collection = \"diamond\"\n",
    "    if collection in jewellery_data[\"collections\"]:\n",
    "        collection_data = jewellery_data[\"collections\"][collection]\n",
    "        if \"diamond rate\" in collection_data:\n",
    "            rate = collection_data[\"diamond rate\"]\n",
    "            respond(f\"The {collection} collection has the following rate:\")\n",
    "            for item in collection_data[\"diamond rate\"]:\n",
    "                respond(f\" one carat rate is {item['diamond_per_carat']} :  eight gram rate is  {item['diamond_per_gram']}\")"
   ]
  },
  {
   "cell_type": "code",
   "execution_count": 18,
   "id": "55b4d501",
   "metadata": {},
   "outputs": [],
   "source": [
    "def platinum_rate():\n",
    "    collection = \"platinum\"\n",
    "    if collection in jewellery_data[\"collections\"]:\n",
    "        collection_data = jewellery_data[\"collections\"][collection]\n",
    "        if \"platinum rate\" in collection_data:\n",
    "            rate = collection_data[\"platinum rate\"]\n",
    "            respond(f\"The {collection} collection has the following rate:\")\n",
    "            for item in collection_data[\"platinum rate\"]:\n",
    "                respond(f\"one gram rate is {item['platinum_per_gram']} : eight gram rate is  {item['platinum_eight_gram']}\")"
   ]
  },
  {
   "cell_type": "markdown",
   "id": "5c859e3d",
   "metadata": {},
   "source": [
    "### Show Collection Items:"
   ]
  },
  {
   "cell_type": "code",
   "execution_count": 19,
   "id": "6ecc6294",
   "metadata": {},
   "outputs": [],
   "source": [
    "def gold_items():\n",
    "    collection = \"gold\"\n",
    "    if collection in jewellery_data[\"collections\"]:\n",
    "        collection_data = jewellery_data[\"collections\"][collection]\n",
    "        if \"items\" in collection_data:\n",
    "            items = collection_data[\"items\"]\n",
    "            respond(f\"The {collection} collection has the following items:\")\n",
    "            for item in items:\n",
    "                respond(item[\"name\"])\n",
    "                \n",
    "            respond(\"The items are available in the ground floor\")"
   ]
  },
  {
   "cell_type": "code",
   "execution_count": 20,
   "id": "91a09c0c",
   "metadata": {},
   "outputs": [],
   "source": [
    "def silver_items():\n",
    "    collection = \"silver\"\n",
    "    if collection in jewellery_data[\"collections\"]:\n",
    "        collection_data = jewellery_data[\"collections\"][collection]\n",
    "        if \"items\" in collection_data:\n",
    "            items = collection_data[\"items\"]\n",
    "            respond(f\"The {collection} collection has the following items:\")\n",
    "            for item in items:\n",
    "                respond(item[\"name\"])\n",
    "                \n",
    "            respond(\"The items are available in the first floor\")"
   ]
  },
  {
   "cell_type": "code",
   "execution_count": 21,
   "id": "b4766710",
   "metadata": {},
   "outputs": [],
   "source": [
    "def diamond_items():\n",
    "    collection = \"diamond\"\n",
    "    if collection in jewellery_data[\"collections\"]:\n",
    "        collection_data = jewellery_data[\"collections\"][collection]\n",
    "        if \"items\" in collection_data:\n",
    "            items = collection_data[\"items\"]\n",
    "            respond(f\"The {collection} collection has the following items:\")\n",
    "            for item in items:\n",
    "                respond(item[\"name\"])\n",
    "                \n",
    "            respond(\"The items are available in the second floor\")"
   ]
  },
  {
   "cell_type": "code",
   "execution_count": 22,
   "id": "036d3c1b",
   "metadata": {},
   "outputs": [],
   "source": [
    "def platinum_items():\n",
    "    collection = \"platinum\"\n",
    "    if collection in jewellery_data[\"collections\"]:\n",
    "        collection_data = jewellery_data[\"collections\"][collection]\n",
    "        if \"items\" in collection_data:\n",
    "            items = collection_data[\"items\"]\n",
    "            respond(f\"The {collection} collection has the following items:\")\n",
    "            for item in items:\n",
    "                respond(item[\"name\"])\n",
    "                \n",
    "            respond(\"The items are available in the second floor\")"
   ]
  },
  {
   "cell_type": "markdown",
   "id": "9cd2ec54",
   "metadata": {},
   "source": [
    "### Show All Offers:"
   ]
  },
  {
   "cell_type": "code",
   "execution_count": 23,
   "id": "72b531c6",
   "metadata": {},
   "outputs": [],
   "source": [
    "def offers(collection_name):\n",
    "    if collection_name not in jewellery_data[\"collections\"]:\n",
    "        return \"Collection not found.\"\n",
    "\n",
    "    offers = jewellery_data[\"collections\"][collection_name][\"offers\"]\n",
    "\n",
    "    offer_list = \"\\n\".join(offers)\n",
    "    return f\"The offers in the {collection_name} collection are:\\n{offer_list}\""
   ]
  },
  {
   "cell_type": "code",
   "execution_count": 24,
   "id": "930fe1f3",
   "metadata": {},
   "outputs": [],
   "source": [
    "def show_all_offers():\n",
    "    respond(offers(\"gold\"))\n",
    "    respond(offers(\"silver\"))\n",
    "    respond(offers(\"diamond\"))\n",
    "    respond(offers(\"platinum\"))"
   ]
  },
  {
   "cell_type": "markdown",
   "id": "095d682d",
   "metadata": {},
   "source": [
    "### Main Program :"
   ]
  },
  {
   "cell_type": "code",
   "execution_count": 29,
   "id": "42c743a6",
   "metadata": {
    "scrolled": true
   },
   "outputs": [
    {
     "name": "stdout",
     "output_type": "stream",
     "text": [
      "speak now\n",
      "Your question is, CM\n",
      "Face Detected\n",
      "Good Evening\n",
      "Welcome to svm jewellery shop\n",
      "Hello, I am your svm Jewellery Shop Voice Assistant, How can I help you?\n",
      "speak now\n",
      "Your question is, how are you\n",
      "I'm fine sir, what about you\n",
      "speak now\n",
      "Your question is, are you\n",
      "Sorry, I didn't understand that. Please try again.\n",
      "speak now\n",
      "Your question is, date and time\n",
      "Today's Date is Friday, June 02, 2023\n",
      "speak now\n",
      "Your question is, movie collection\n",
      "Sorry, I didn't understand that. Please try again.\n",
      "speak now\n",
      "Your question is, date and time\n",
      "Today's Date is Friday, June 02, 2023\n",
      "speak now\n",
      "Your question is, correction\n",
      "Sorry, I didn't understand that. Please try again.\n",
      "speak now\n",
      "Your question is, collection\n",
      "Sorry, I didn't understand that. Please try again.\n",
      "speak now\n",
      "Your question is, collections\n",
      "We have the following collections:\n",
      "gold\n",
      "silver\n",
      "diamond\n",
      "platinum\n",
      "speak now\n",
      "Your question is, gold rate\n",
      "The gold collection has the following rate:\n",
      " one gram rate is 4800 rupees + GST(Applicable) :  eight gram rate is 45000 rupees + GST(Applicable)\n",
      "speak now\n",
      "Your question is, silver rate\n",
      "The silver collection has the following rate:\n",
      " one gram rate is 77 rupees + GST(Applicable) :  eight gram rate is  675 rupees + GST(Applicable)\n",
      "speak now\n",
      "Your question is, Diamond rate\n",
      "The diamond collection has the following rate:\n",
      " one carat rate is 6500 rupees + GST(Applicable) :  eight gram rate is  300000 rupees + GST(Applicable)\n",
      "speak now\n",
      "Your question is, platinum rate\n",
      "The platinum collection has the following rate:\n",
      "one gram rate is 2454 rupees + GST(Applicable) : eight gram rate is  23465 rupees + GST(Applicable)\n",
      "speak now\n",
      "Your question is, gold items\n",
      "The gold collection has the following items:\n",
      "necklace\n",
      "bracelet\n",
      "ring\n",
      "The items are available in the ground floor\n",
      "speak now\n",
      "Your question is, Silver items\n",
      "The silver collection has the following items:\n",
      "earrings\n",
      "pendant\n",
      "bangle\n",
      "The items are available in the first floor\n",
      "speak now\n",
      "Your question is, Diamond items\n",
      "The diamond collection has the following items:\n",
      "earrings\n",
      "ring\n",
      "pendant\n",
      "The items are available in the second floor\n",
      "speak now\n",
      "Your question is, ke naam item\n",
      "Sorry, I didn't understand that. Please try again.\n",
      "speak now\n",
      "Your question is, Platinum item\n",
      "Sorry, I didn't understand that. Please try again.\n",
      "speak now\n",
      "Your question is, Platinum items\n",
      "The platinum collection has the following items:\n",
      "chain\n",
      "bracelet\n",
      "ring\n",
      "The items are available in the second floor\n",
      "speak now\n",
      "Your question is, offers\n",
      "The offers in the gold collection are:\n",
      "10% offer on all items\n",
      "The offers in the silver collection are:\n",
      "15% offer on all items\n",
      "The offers in the diamond collection are:\n",
      "5% offer on all items\n",
      "The offers in the platinum collection are:\n",
      "No offers available for this collection\n",
      "speak now\n",
      "Sorry, I didn't catch that. Could you please repeat?\n",
      "No commands received. Exiting...\n"
     ]
    }
   ],
   "source": [
    "if __name__=='__main__':\n",
    "    \n",
    "    last_command_time = time.time()\n",
    "        \n",
    "    while(1):\n",
    "\n",
    "        video_capture = cv2.VideoCapture(0)\n",
    "        ret, frame = video_capture.read()\n",
    "\n",
    "        text=talk().lower()\n",
    "        current_time = time.time()\n",
    "        \n",
    "        remove_background_noise(duration=5)\n",
    "        \n",
    "        if text==0:\n",
    "            continue\n",
    "            \n",
    "        if text == \"\":  \n",
    "            if current_time - last_command_time > 10:\n",
    "                respond(\"No commands received. Exiting...\")\n",
    "                break\n",
    "            \n",
    "        if (wakeWord(text)==True):\n",
    "            detect_faces()\n",
    "            \n",
    "        elif \"stop\" in text or \"exit\" in text or \"bye\" in text or \"thanks\" in text or \"thank you\" in text or \"okey bye\" in text:\n",
    "            respond(\"Thank you for your pleasant time...\")\n",
    "            break       \n",
    "            \n",
    "        elif \"who are you\" in text:\n",
    "            respond(\"I'm your svm jewellery shop voice assistant\")\n",
    "\n",
    "        elif \"how are you\" in text:\n",
    "            respond(\"I'm fine sir, what about you\")\n",
    "            \n",
    "        elif \"date\" in text or \"what is current date\" in text or \"today date\" in text:\n",
    "            get_date()\n",
    "            \n",
    "        elif  \"time\" in text or \"what is current time\" in text or \"today time\" in text:\n",
    "            get_time()\n",
    "            \n",
    "        elif  \"what is current date and time\" in text or \"date and time\" in text or \"today date and time\" in text:\n",
    "            get_date()\n",
    "            get_time()\n",
    "            \n",
    "        elif \"show me collection\" in text or \"list of collection\" in text or \"collections\" in text:\n",
    "            find_collection()\n",
    "            \n",
    "        elif \"gold rate\" in text or \"what is today's gold rate\" in text or \"current gold rate\" in text or \"gold price\" in text or \"what is today's gold price\" in text or \"current gold price\" in text:\n",
    "            gold_rate()\n",
    "            \n",
    "        elif \"silver rate\" in text or \"what is today's silver rate\" in text or \"current silver rate\" in text or \"silver price\" in text or \"what is today's silver price\" in text or \"current silver price\" in text:\n",
    "            silver_rate()\n",
    "            \n",
    "        elif \"diamond rate\" in text or \"what is today's diamond rate\" in text or \"current diamond rate\" in text or \"diamond price\" in text or \"what is today's diamond price\" in text or \"current diamond price\" in text:\n",
    "            diamond_rate()\n",
    "            \n",
    "        elif \"platinum rate\" in text or \"what is today's platinum rate\" in text or \"current platinum rate\" in text or \"platinum price\" in text or \"what is today's platinum price\" in text or \"current platinum price\" in text:\n",
    "            platinum_rate()\n",
    "            \n",
    "        elif \"gold items\" in text or \"gold products\" in text or \"show gold items\" in text:\n",
    "            gold_items()\n",
    "            \n",
    "        elif \"silver items\" in text or \"silver products\" in text or \"show silver items\" in text:\n",
    "            silver_items()\n",
    "            \n",
    "        elif \"diamond items\" in text or \"diamond products\" in text or \"show diamond items\" in text:\n",
    "            diamond_items()\n",
    "            \n",
    "        elif \"platinum items\" in text or \"platinum products\" in text or \"show platinum items\" in text:\n",
    "            platinum_items()\n",
    "            \n",
    "        elif \"offers\" in text or \"is there any offer avaliable\" in text or \"today offers\" in text:\n",
    "            show_all_offers()\n",
    "            \n",
    "        else:\n",
    "            respond(\"Sorry, I didn't understand that. Please repeat the question.\")"
   ]
  },
  {
   "cell_type": "code",
   "execution_count": null,
   "id": "529c83cb",
   "metadata": {},
   "outputs": [],
   "source": []
  }
 ],
 "metadata": {
  "kernelspec": {
   "display_name": "Python 3 (ipykernel)",
   "language": "python",
   "name": "python3"
  },
  "language_info": {
   "codemirror_mode": {
    "name": "ipython",
    "version": 3
   },
   "file_extension": ".py",
   "mimetype": "text/x-python",
   "name": "python",
   "nbconvert_exporter": "python",
   "pygments_lexer": "ipython3",
   "version": "3.11.4"
  }
 },
 "nbformat": 4,
 "nbformat_minor": 5
}
